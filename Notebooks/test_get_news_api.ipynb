{
 "cells": [
  {
   "cell_type": "code",
   "execution_count": 1,
   "metadata": {},
   "outputs": [],
   "source": [
    "import requests\n",
    "import datetime\n",
    "import pandas as pd"
   ]
  },
  {
   "cell_type": "code",
   "execution_count": 5,
   "metadata": {},
   "outputs": [],
   "source": [
    "# dt_start = datetime.datetime.strptime('2022-03-01 00:00:00', \"%Y-%m-%d %H:%M:%S\")\n",
    "dt_start = datetime.datetime.strptime('2023-12-11 12:06:12', \"%Y-%m-%d %H:%M:%S\")\n",
    "dt_end = datetime.datetime.strptime('2024-12-31 23:59:59', \"%Y-%m-%d %H:%M:%S\")\n",
    "symbol = \"AAPL\"\n",
    "limits_per_api_call = 1000"
   ]
  },
  {
   "cell_type": "code",
   "execution_count": 6,
   "metadata": {},
   "outputs": [],
   "source": [
    "url = f\"https://www.alphavantage.co/query\"\n",
    "params = {\n",
    "\t\"function\": \"NEWS_SENTIMENT\",\n",
    "\t\"tickers\": symbol,\n",
    "\t\"apikey\": \"IUHOCUUMV8MWWMUM\",\n",
    "\t\"time_from\": dt_start.strftime(\"%Y%m%dT%H%M\"),\n",
    "\t\"time_to\": dt_end.strftime(\"%Y%m%dT%H%M\"),\n",
    "\t\"limit\": limits_per_api_call,\n",
    "\t\"sort\": \"EARLIEST\",\n",
    "}\n",
    "response = requests.get(url, params=params)\n",
    "data = response.json()"
   ]
  },
  {
   "cell_type": "code",
   "execution_count": 8,
   "metadata": {},
   "outputs": [
    {
     "data": {
      "text/plain": [
       "685"
      ]
     },
     "execution_count": 8,
     "metadata": {},
     "output_type": "execute_result"
    }
   ],
   "source": [
    "int(data['items'])"
   ]
  },
  {
   "cell_type": "code",
   "execution_count": 4,
   "metadata": {},
   "outputs": [
    {
     "ename": "KeyError",
     "evalue": "'feed'",
     "output_type": "error",
     "traceback": [
      "\u001b[0;31m---------------------------------------------------------------------------\u001b[0m",
      "\u001b[0;31mKeyError\u001b[0m                                  Traceback (most recent call last)",
      "Cell \u001b[0;32mIn[4], line 2\u001b[0m\n\u001b[1;32m      1\u001b[0m batch_news \u001b[38;5;241m=\u001b[39m []\n\u001b[0;32m----> 2\u001b[0m \u001b[38;5;28;01mfor\u001b[39;00m item \u001b[38;5;129;01min\u001b[39;00m \u001b[43mdata\u001b[49m\u001b[43m[\u001b[49m\u001b[38;5;124;43m\"\u001b[39;49m\u001b[38;5;124;43mfeed\u001b[39;49m\u001b[38;5;124;43m\"\u001b[39;49m\u001b[43m]\u001b[49m:\n\u001b[1;32m      3\u001b[0m \tnews \u001b[38;5;241m=\u001b[39m {\n\u001b[1;32m      4\u001b[0m \t\t\u001b[38;5;124m\"\u001b[39m\u001b[38;5;124msymbol\u001b[39m\u001b[38;5;124m\"\u001b[39m: symbol,\n\u001b[1;32m      5\u001b[0m \t\t\u001b[38;5;124m\"\u001b[39m\u001b[38;5;124mdatetime\u001b[39m\u001b[38;5;124m\"\u001b[39m: datetime\u001b[38;5;241m.\u001b[39mdatetime\u001b[38;5;241m.\u001b[39mstrptime(\n\u001b[0;32m   (...)\u001b[0m\n\u001b[1;32m     15\u001b[0m \t\t\u001b[38;5;124m\"\u001b[39m\u001b[38;5;124mcreated_at\u001b[39m\u001b[38;5;124m\"\u001b[39m: datetime\u001b[38;5;241m.\u001b[39mdatetime\u001b[38;5;241m.\u001b[39mnow(),  \u001b[38;5;66;03m# Current timestamp for when the record is created\u001b[39;00m\n\u001b[1;32m     16\u001b[0m \t}\n\u001b[1;32m     18\u001b[0m \t\u001b[38;5;66;03m# Add ticker-specific sentiment if available\u001b[39;00m\n",
      "\u001b[0;31mKeyError\u001b[0m: 'feed'"
     ]
    }
   ],
   "source": [
    "batch_news = []\n",
    "for item in data[\"feed\"]:\n",
    "\tnews = {\n",
    "\t\t\"symbol\": symbol,\n",
    "\t\t\"datetime\": datetime.datetime.strptime(\n",
    "\t\t\titem[\"time_published\"], \"%Y%m%dT%H%M%S\"\n",
    "\t\t),\n",
    "\t\t\"title\": item[\"title\"],\n",
    "\t\t\"source\": item[\"source\"],\n",
    "\t\t\"summary\": item[\"summary\"],\n",
    "\t\t\"length_summary\": len(item[\"summary\"]),\n",
    "\t\t\"url\": item[\"url\"],\n",
    "\t\t\"overall_sentiment\": item[\"overall_sentiment_label\"],\n",
    "\t\t\"overall_sentiment_score\": item[\"overall_sentiment_score\"],\n",
    "\t\t\"created_at\": datetime.datetime.now(),  # Current timestamp for when the record is created\n",
    "\t}\n",
    "\n",
    "\t# Add ticker-specific sentiment if available\n",
    "\tif \"ticker_sentiment\" in item:\n",
    "\t\tfor ticker_data in item[\"ticker_sentiment\"]:\n",
    "\t\t\tif ticker_data[\"ticker\"] == symbol:\n",
    "\t\t\t\tnews[\"sentiment\"] = ticker_data[\"ticker_sentiment_label\"]\n",
    "\t\t\t\tnews[\"sentiment_score\"] = ticker_data[\n",
    "\t\t\t\t\t\"ticker_sentiment_score\"\n",
    "\t\t\t\t]\n",
    "\t\t\t\tnews[\"relevance_score\"] = ticker_data[\"relevance_score\"]\n",
    "\t\t\t\tbreak\n",
    "\n",
    "\tbatch_news.append(news)"
   ]
  },
  {
   "cell_type": "code",
   "execution_count": 47,
   "metadata": {},
   "outputs": [
    {
     "data": {
      "text/plain": [
       "(678, 13)"
      ]
     },
     "execution_count": 47,
     "metadata": {},
     "output_type": "execute_result"
    }
   ],
   "source": [
    "batch_news_df = pd.DataFrame(batch_news)\n",
    "batch_news_df.shape"
   ]
  },
  {
   "cell_type": "code",
   "execution_count": 48,
   "metadata": {},
   "outputs": [
    {
     "data": {
      "text/html": [
       "<div>\n",
       "<style scoped>\n",
       "    .dataframe tbody tr th:only-of-type {\n",
       "        vertical-align: middle;\n",
       "    }\n",
       "\n",
       "    .dataframe tbody tr th {\n",
       "        vertical-align: top;\n",
       "    }\n",
       "\n",
       "    .dataframe thead th {\n",
       "        text-align: right;\n",
       "    }\n",
       "</style>\n",
       "<table border=\"1\" class=\"dataframe\">\n",
       "  <thead>\n",
       "    <tr style=\"text-align: right;\">\n",
       "      <th></th>\n",
       "      <th>symbol</th>\n",
       "      <th>datetime</th>\n",
       "      <th>title</th>\n",
       "      <th>source</th>\n",
       "      <th>summary</th>\n",
       "      <th>length_summary</th>\n",
       "      <th>url</th>\n",
       "      <th>overall_sentiment</th>\n",
       "      <th>overall_sentiment_score</th>\n",
       "      <th>created_at</th>\n",
       "      <th>sentiment</th>\n",
       "      <th>sentiment_score</th>\n",
       "      <th>relevance_score</th>\n",
       "    </tr>\n",
       "  </thead>\n",
       "  <tbody>\n",
       "    <tr>\n",
       "      <th>0</th>\n",
       "      <td>AAPL</td>\n",
       "      <td>2022-03-25 13:10:00</td>\n",
       "      <td>Is Most-Watched Stock Apple Inc.  ( AAPL )  Wo...</td>\n",
       "      <td>Zacks Commentary</td>\n",
       "      <td>Zacks.com users have recently been watching Ap...</td>\n",
       "      <td>149</td>\n",
       "      <td>https://www.zacks.com/stock/news/1887424/is-mo...</td>\n",
       "      <td>Neutral</td>\n",
       "      <td>0.058284</td>\n",
       "      <td>2025-04-22 17:04:34.902832</td>\n",
       "      <td>Neutral</td>\n",
       "      <td>0.040413</td>\n",
       "      <td>0.49579</td>\n",
       "    </tr>\n",
       "    <tr>\n",
       "      <th>1</th>\n",
       "      <td>AAPL</td>\n",
       "      <td>2022-03-25 13:15:00</td>\n",
       "      <td>This Hyper-Successful Stock Is Totally Underes...</td>\n",
       "      <td>Motley Fool</td>\n",
       "      <td>Streaming business models primed for growth.</td>\n",
       "      <td>44</td>\n",
       "      <td>https://www.fool.com/investing/2022/03/25/this...</td>\n",
       "      <td>Somewhat-Bullish</td>\n",
       "      <td>0.342731</td>\n",
       "      <td>2025-04-22 17:04:34.902854</td>\n",
       "      <td>Somewhat-Bullish</td>\n",
       "      <td>0.342731</td>\n",
       "      <td>0.993371</td>\n",
       "    </tr>\n",
       "  </tbody>\n",
       "</table>\n",
       "</div>"
      ],
      "text/plain": [
       "  symbol            datetime  \\\n",
       "0   AAPL 2022-03-25 13:10:00   \n",
       "1   AAPL 2022-03-25 13:15:00   \n",
       "\n",
       "                                               title            source  \\\n",
       "0  Is Most-Watched Stock Apple Inc.  ( AAPL )  Wo...  Zacks Commentary   \n",
       "1  This Hyper-Successful Stock Is Totally Underes...       Motley Fool   \n",
       "\n",
       "                                             summary  length_summary  \\\n",
       "0  Zacks.com users have recently been watching Ap...             149   \n",
       "1       Streaming business models primed for growth.              44   \n",
       "\n",
       "                                                 url overall_sentiment  \\\n",
       "0  https://www.zacks.com/stock/news/1887424/is-mo...           Neutral   \n",
       "1  https://www.fool.com/investing/2022/03/25/this...  Somewhat-Bullish   \n",
       "\n",
       "   overall_sentiment_score                 created_at         sentiment  \\\n",
       "0                 0.058284 2025-04-22 17:04:34.902832           Neutral   \n",
       "1                 0.342731 2025-04-22 17:04:34.902854  Somewhat-Bullish   \n",
       "\n",
       "  sentiment_score relevance_score  \n",
       "0        0.040413         0.49579  \n",
       "1        0.342731        0.993371  "
      ]
     },
     "execution_count": 48,
     "metadata": {},
     "output_type": "execute_result"
    }
   ],
   "source": [
    "batch_news_df.head(2)"
   ]
  },
  {
   "cell_type": "code",
   "execution_count": 49,
   "metadata": {},
   "outputs": [
    {
     "data": {
      "text/html": [
       "<div>\n",
       "<style scoped>\n",
       "    .dataframe tbody tr th:only-of-type {\n",
       "        vertical-align: middle;\n",
       "    }\n",
       "\n",
       "    .dataframe tbody tr th {\n",
       "        vertical-align: top;\n",
       "    }\n",
       "\n",
       "    .dataframe thead th {\n",
       "        text-align: right;\n",
       "    }\n",
       "</style>\n",
       "<table border=\"1\" class=\"dataframe\">\n",
       "  <thead>\n",
       "    <tr style=\"text-align: right;\">\n",
       "      <th></th>\n",
       "      <th>symbol</th>\n",
       "      <th>datetime</th>\n",
       "      <th>title</th>\n",
       "      <th>source</th>\n",
       "      <th>summary</th>\n",
       "      <th>length_summary</th>\n",
       "      <th>url</th>\n",
       "      <th>overall_sentiment</th>\n",
       "      <th>overall_sentiment_score</th>\n",
       "      <th>created_at</th>\n",
       "      <th>sentiment</th>\n",
       "      <th>sentiment_score</th>\n",
       "      <th>relevance_score</th>\n",
       "    </tr>\n",
       "  </thead>\n",
       "  <tbody>\n",
       "    <tr>\n",
       "      <th>676</th>\n",
       "      <td>AAPL</td>\n",
       "      <td>2022-04-15 14:16:00</td>\n",
       "      <td>2 Reasons to Buy ExxonMobil, and 1 Reason to H...</td>\n",
       "      <td>Motley Fool</td>\n",
       "      <td>A sleeping giant is roaring back to life.</td>\n",
       "      <td>41</td>\n",
       "      <td>https://www.fool.com/investing/2022/04/15/2-re...</td>\n",
       "      <td>Somewhat-Bearish</td>\n",
       "      <td>-0.236782</td>\n",
       "      <td>2025-04-22 17:04:34.908092</td>\n",
       "      <td>Neutral</td>\n",
       "      <td>0.046902</td>\n",
       "      <td>0.266828</td>\n",
       "    </tr>\n",
       "    <tr>\n",
       "      <th>677</th>\n",
       "      <td>AAPL</td>\n",
       "      <td>2022-04-15 15:37:00</td>\n",
       "      <td>3 Things About Snap That Smart Investors Know</td>\n",
       "      <td>Motley Fool</td>\n",
       "      <td>Snap is one of the most popular social media a...</td>\n",
       "      <td>91</td>\n",
       "      <td>https://www.fool.com/investing/2022/04/15/snap...</td>\n",
       "      <td>Neutral</td>\n",
       "      <td>0.053056</td>\n",
       "      <td>2025-04-22 17:04:34.908098</td>\n",
       "      <td>Neutral</td>\n",
       "      <td>0.064945</td>\n",
       "      <td>0.189769</td>\n",
       "    </tr>\n",
       "  </tbody>\n",
       "</table>\n",
       "</div>"
      ],
      "text/plain": [
       "    symbol            datetime  \\\n",
       "676   AAPL 2022-04-15 14:16:00   \n",
       "677   AAPL 2022-04-15 15:37:00   \n",
       "\n",
       "                                                 title       source  \\\n",
       "676  2 Reasons to Buy ExxonMobil, and 1 Reason to H...  Motley Fool   \n",
       "677      3 Things About Snap That Smart Investors Know  Motley Fool   \n",
       "\n",
       "                                               summary  length_summary  \\\n",
       "676          A sleeping giant is roaring back to life.              41   \n",
       "677  Snap is one of the most popular social media a...              91   \n",
       "\n",
       "                                                   url overall_sentiment  \\\n",
       "676  https://www.fool.com/investing/2022/04/15/2-re...  Somewhat-Bearish   \n",
       "677  https://www.fool.com/investing/2022/04/15/snap...           Neutral   \n",
       "\n",
       "     overall_sentiment_score                 created_at sentiment  \\\n",
       "676                -0.236782 2025-04-22 17:04:34.908092   Neutral   \n",
       "677                 0.053056 2025-04-22 17:04:34.908098   Neutral   \n",
       "\n",
       "    sentiment_score relevance_score  \n",
       "676        0.046902        0.266828  \n",
       "677        0.064945        0.189769  "
      ]
     },
     "execution_count": 49,
     "metadata": {},
     "output_type": "execute_result"
    }
   ],
   "source": [
    "batch_news_df.tail(2)"
   ]
  }
 ],
 "metadata": {
  "kernelspec": {
   "display_name": "erdos-finance-llm-mn_mYvM--py3.13",
   "language": "python",
   "name": "python3"
  },
  "language_info": {
   "codemirror_mode": {
    "name": "ipython",
    "version": 3
   },
   "file_extension": ".py",
   "mimetype": "text/x-python",
   "name": "python",
   "nbconvert_exporter": "python",
   "pygments_lexer": "ipython3",
   "version": "3.13.1"
  }
 },
 "nbformat": 4,
 "nbformat_minor": 2
}
